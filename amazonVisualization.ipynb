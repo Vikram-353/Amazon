import pandas as pd
import matplotlib.pyplot as plt
import seaborn as sns

df = pd.read_csv("soft_toys_cleaned.csv")
# 1. Brand Frequency Calculation
brand_frequency = df['brand'].value_counts().reset_index()
brand_frequency.columns = ['Brand', 'Frequency']

# 2. Average Rating by Brand Calculation
average_rating_by_brand = df.groupby('brand')['rating'].mean().reset_index()
average_rating_by_brand.columns = ['Brand', 'Average Rating']

# 3. Merge the two dataframes
brand_performance = pd.merge(brand_frequency, average_rating_by_brand, on='Brand')

# 4. Identify Top 5 Brands by Frequency
top_5_brands = brand_performance.head(5)

# 5. Visualization: Bar Chart (Top 5 Brands by Frequency)
plt.figure(figsize=(10, 6))
sns.barplot(x='Frequency', y='Brand', data=top_5_brands, palette='viridis')
plt.title('Top 5 Brands by Frequency in Soft Toys Category')
plt.xlabel('Frequency of Products')
plt.ylabel('Brand')
plt.show()

# 6. Visualization: Pie Chart (Share of Top Brands)
plt.figure(figsize=(8, 8))
top_brands = brand_performance['Brand'].head(5)
top_brands_frequency = brand_performance.loc[brand_performance['Brand'].isin(top_brands)]

plt.pie(top_brands_frequency['Frequency'], labels=top_brands_frequency['Brand'], autopct='%1.1f%%', startangle=140, colors=sns.color_palette('Set3', n_colors=5))
plt.title('Top Brands Share by Frequency')
plt.axis('equal')
plt.show()
